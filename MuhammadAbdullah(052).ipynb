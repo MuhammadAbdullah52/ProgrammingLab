{
 "cells": [
  {
   "cell_type": "code",
   "execution_count": 4,
   "id": "af0f33aa-7215-415b-af41-da121aeb2501",
   "metadata": {},
   "outputs": [
    {
     "name": "stdin",
     "output_type": "stream",
     "text": [
      "Enter a number: 0\n"
     ]
    },
    {
     "name": "stdout",
     "output_type": "stream",
     "text": [
      "The number is zero.\n"
     ]
    }
   ],
   "source": [
    "#Question 1\n",
    "num = float(input(\"Enter a number:\"))\n",
    "\n",
    "if num > 0:\n",
    "    print(\"The number is positive.\")\n",
    "elif num < 0:\n",
    "    print(\"The number is negative.\")\n",
    "else:\n",
    "    print(\"The number is zero.\")"
   ]
  },
  {
   "cell_type": "code",
   "execution_count": 6,
   "id": "4b484812-c24e-4dc3-a2a2-b42b7e0b2f72",
   "metadata": {},
   "outputs": [
    {
     "name": "stdin",
     "output_type": "stream",
     "text": [
      "Enter a year:  2025\n"
     ]
    },
    {
     "name": "stdout",
     "output_type": "stream",
     "text": [
      "It's not a leap year.\n"
     ]
    }
   ],
   "source": [
    "#Question2\n",
    "year = int(input(\"Enter a year: \"))\n",
    "\n",
    "if (year % 400 == 0):\n",
    "    print(\"It's a leap year!\")\n",
    "else:\n",
    "    print(\"It's not a leap year.\")"
   ]
  },
  {
   "cell_type": "code",
   "execution_count": 19,
   "id": "6e8b0198-aa00-4e89-a744-8ea65814234e",
   "metadata": {},
   "outputs": [
    {
     "name": "stdin",
     "output_type": "stream",
     "text": [
      "Enter first number:  5\n",
      "Enter operator (+, -, *, /):  *\n",
      "Enter second number:  7\n"
     ]
    },
    {
     "name": "stdout",
     "output_type": "stream",
     "text": [
      "35.0\n"
     ]
    }
   ],
   "source": [
    "#Question 3\n",
    "num1 = float(input(\"Enter first number: \"))\n",
    "operator = input(\"Enter operator (+, -, *, /): \")\n",
    "num2 = float(input(\"Enter second number: \"))\n",
    "\n",
    "if operator == \"+\":\n",
    "    print(num1 + num2)\n",
    "elif operator == \"-\":\n",
    "    print(num1 - num2)\n",
    "elif operator == \"*\":\n",
    "    print(num1 * num2)\n",
    "elif operator == \"/\":\n",
    "    print(num1 / num2)\n",
    "else:\n",
    "    print(\"Invalid operator!\")"
   ]
  },
  {
   "cell_type": "code",
   "execution_count": 21,
   "id": "93ca679e-2929-4419-9bc1-5d0677587be3",
   "metadata": {},
   "outputs": [
    {
     "name": "stdin",
     "output_type": "stream",
     "text": [
      "Enter the student's marks:  76\n"
     ]
    },
    {
     "name": "stdout",
     "output_type": "stream",
     "text": [
      "Grade: B\n"
     ]
    }
   ],
   "source": [
    "# Question4\n",
    "\n",
    "marks = float(input(\"Enter the student's marks: \"))\n",
    "\n",
    "if marks >= 85:\n",
    "    grade = \"A\"\n",
    "elif marks >= 70:\n",
    "    grade = \"B\"\n",
    "elif marks >= 50:\n",
    "    grade = \"C\"\n",
    "else:\n",
    "    grade = \"F\"\n",
    "\n",
    "print(\"Grade:\", grade)\n"
   ]
  },
  {
   "cell_type": "code",
   "execution_count": 23,
   "id": "1f6ee58b-70e3-487b-9ca3-1ad35613a655",
   "metadata": {},
   "outputs": [
    {
     "name": "stdin",
     "output_type": "stream",
     "text": [
      "Enter your age:  36\n",
      "Enter your income in dollars:  65543\n"
     ]
    },
    {
     "name": "stdout",
     "output_type": "stream",
     "text": [
      "Eligible for membership.\n"
     ]
    }
   ],
   "source": [
    "# Question 5\n",
    "\n",
    "age = int(input(\"Enter your age: \"))\n",
    "income = float(input(\"Enter your income in dollars: \"))\n",
    "\n",
    "if age >= 21 and income > 25000:\n",
    "    print(\"Eligible for membership.\")\n",
    "else:\n",
    "    print(\"Not eligible.\")\n"
   ]
  },
  {
   "cell_type": "code",
   "execution_count": 25,
   "id": "2aa65f25-54b9-4fbf-804c-a560157301b3",
   "metadata": {},
   "outputs": [
    {
     "name": "stdin",
     "output_type": "stream",
     "text": [
      "Enter a number:  6\n"
     ]
    },
    {
     "name": "stdout",
     "output_type": "stream",
     "text": [
      "Fizz\n"
     ]
    }
   ],
   "source": [
    "# Question 6\n",
    "num = int(input(\"Enter a number: \"))\n",
    "\n",
    "if num % 3 == 0 and num % 5 == 0:\n",
    "    print(\"FizzBuzz\")\n",
    "elif num % 3 == 0:\n",
    "    print(\"Fizz\")\n",
    "elif num % 5 == 0:\n",
    "    print(\"Buzz\")\n",
    "else:\n",
    "    print(num)"
   ]
  },
  {
   "cell_type": "code",
   "execution_count": 27,
   "id": "02088e60-74c3-43a0-aab3-5a53bf45823d",
   "metadata": {},
   "outputs": [
    {
     "name": "stdin",
     "output_type": "stream",
     "text": [
      "Enter a character:  g\n"
     ]
    },
    {
     "name": "stdout",
     "output_type": "stream",
     "text": [
      "It's a consonant.\n"
     ]
    }
   ],
   "source": [
    "#Question 7\n",
    "char = input(\"Enter a character: \")\n",
    "\n",
    "# Check if the character is a vowel\n",
    "if char in 'aeiouAEIOU':\n",
    "    print(\"It's a vowel.\")\n",
    "# Check if the character is a digit\n",
    "elif char.isdigit():\n",
    "    print(\"It's a digit.\")\n",
    "# Check if the character is an alphabetic letter (consonant)\n",
    "elif char.isalpha():\n",
    "    print(\"It's a consonant.\")\n",
    "#  special character\n",
    "else:\n",
    "    print(\"It's a special character.\")\n"
   ]
  },
  {
   "cell_type": "code",
   "execution_count": 29,
   "id": "7a044a03-2b2f-45e2-acc8-3fbca88e7a4c",
   "metadata": {},
   "outputs": [
    {
     "name": "stdin",
     "output_type": "stream",
     "text": [
      "Enter the day of the week:  monday\n"
     ]
    },
    {
     "name": "stdout",
     "output_type": "stream",
     "text": [
      "Time to work!\n"
     ]
    }
   ],
   "source": [
    "#Question 8\n",
    "day = input(\"Enter the day of the week: \").lower()  \n",
    "\n",
    "if day == \"saturday\" or day == \"sunday\":\n",
    "    print(\"Enjoy your weekend!\")\n",
    "else:\n",
    "    print(\"Time to work!\")"
   ]
  },
  {
   "cell_type": "code",
   "execution_count": 31,
   "id": "a3dae21c-2b45-479e-a7aa-930cebefded5",
   "metadata": {},
   "outputs": [
    {
     "name": "stdin",
     "output_type": "stream",
     "text": [
      "Enter your years of service:  14\n",
      "Enter your current salary:  6522456\n"
     ]
    },
    {
     "name": "stdout",
     "output_type": "stream",
     "text": [
      "Your bonus is: $1304491.20\n"
     ]
    }
   ],
   "source": [
    "# Question 9\n",
    "\n",
    "years_of_service = int(input(\"Enter your years of service: \"))\n",
    "current_salary = float(input(\"Enter your current salary: \"))\n",
    "\n",
    "if years_of_service >= 10:\n",
    "    bonus = current_salary * 0.20  \n",
    "elif years_of_service >= 5:\n",
    "    bonus = current_salary * 0.10 \n",
    "else:\n",
    "    bonus = current_salary * 0.05 \n",
    "    \n",
    "print(f\"Your bonus is: ${bonus:.2f}\")\n"
   ]
  },
  {
   "cell_type": "code",
   "execution_count": 33,
   "id": "ba21d25e-f73c-4b38-ad58-0ea0ee34be58",
   "metadata": {},
   "outputs": [
    {
     "name": "stdin",
     "output_type": "stream",
     "text": [
      "Enter a number:  7\n"
     ]
    },
    {
     "name": "stdout",
     "output_type": "stream",
     "text": [
      "The number is positive and odd.\n"
     ]
    }
   ],
   "source": [
    "#Question 10\n",
    "num = float(input(\"Enter a number: \"))\n",
    "\n",
    "if num > 0:\n",
    "    if num % 2 == 0:\n",
    "        print(\"The number is positive and even.\")\n",
    "    else:\n",
    "        print(\"The number is positive and odd.\")\n",
    "elif num < 0:\n",
    "    print(\"The number is negative.\")\n",
    "else:\n",
    "    print(\"The number is zero.\")"
   ]
  },
  {
   "cell_type": "code",
   "execution_count": null,
   "id": "8d1aeaf7-c85c-4814-9834-f1355adae70e",
   "metadata": {},
   "outputs": [],
   "source": []
  }
 ],
 "metadata": {
  "kernelspec": {
   "display_name": "Python [conda env:base] *",
   "language": "python",
   "name": "conda-base-py"
  },
  "language_info": {
   "codemirror_mode": {
    "name": "ipython",
    "version": 3
   },
   "file_extension": ".py",
   "mimetype": "text/x-python",
   "name": "python",
   "nbconvert_exporter": "python",
   "pygments_lexer": "ipython3",
   "version": "3.12.7"
  }
 },
 "nbformat": 4,
 "nbformat_minor": 5
}
